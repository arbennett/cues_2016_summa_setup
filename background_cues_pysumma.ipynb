{
 "cells": [
  {
   "cell_type": "markdown",
   "metadata": {},
   "source": [
    "# Running the CUES SUMMA setup\n",
    "\n",
    "First, we have to install the setup, which simply fixes paths in the file manager."
   ]
  },
  {
   "cell_type": "code",
   "execution_count": null,
   "metadata": {},
   "outputs": [],
   "source": [
    "! ./install_local_setup.sh"
   ]
  },
  {
   "cell_type": "code",
   "execution_count": null,
   "metadata": {},
   "outputs": [],
   "source": [
    "%pylab inline\n",
    "import pysumma as ps\n",
    "import xarray as xr"
   ]
  },
  {
   "cell_type": "markdown",
   "metadata": {},
   "source": [
    "<br>\n",
    "\n",
    "## Instantiating a simulation object\n",
    "\n",
    "To set up a `Simulation` object you must supply 2 pieces of information. \n",
    "\n",
    "First, the SUMMA executable; this could be either the compiled executable on your local machine, or a docker image. \n",
    "For this case, I'll assume that `summa.exe` is on your path. \n",
    "See the commented out `executable` for example of how you could also define the docker image. \n",
    "The string for the docker image simply came from looking at the output of the `docker images` command.\n",
    "\n",
    "The second piece of information is the path to the file manager, which we just created through the install script.\n",
    "To create the `Simulation` object you can then just pass these to the constructor as shown below."
   ]
  },
  {
   "cell_type": "code",
   "execution_count": null,
   "metadata": {},
   "outputs": [],
   "source": [
    "executable = '/opt/local/bin/summa.exe'\n",
    "#executable = 'docker.io/bartnijssen/summa:develop'\n",
    "file_manager = './file_manager.txt'\n",
    "\n",
    "s = ps.Simulation(executable, file_manager)"
   ]
  },
  {
   "cell_type": "markdown",
   "metadata": {},
   "source": [
    "<br>\n",
    "\n",
    "## Manipulating the configuration of the simulation object\n",
    "\n",
    "Most of your interactions with pysumma will be facilitated through this `Simulation` object, so let's take some time to look through what is in it. \n",
    "What's contained in the `Simulation` object right after instantiation is generally just the input required for a SUMMA run.\n",
    "For a more in depth discussion of what these are see the [SUMMA Input](https://summa.readthedocs.io/en/latest/input_output/SUMMA_input/) page of the documentation.\n",
    "There are several attributes of interest that can be examined. \n",
    "To see each of them you can simply `print` them. \n",
    "Here's a very high level overview of what's available:\n",
    "\n",
    "* `s.manager` - the file manager\n",
    "* `s.decisions` - the decisions file\n",
    "* `s.output_control` - defines what variables to write out\n",
    "* `s.force_file_list` - a listing of all of the forcing files to use\n",
    "* `s.local_attributes` - describes GRU/HRU attributes (lat, lon, elevation, etc)\n",
    "* `s.local_param_info` - listing of spatially constant local (HRU) parameter values\n",
    "* `s.basin_param_info` - listing of spatially constant basin (GRU) parameter values\n",
    "* `s.parameter_trial` - spatially distributed parameter values (will overwrite `local_param_info` values, can be either HRU or GRU)\n",
    "\n",
    "Most of these objects have a similar interface defined, with exceptions being `local_attributes` and `parameter_trial`. Those two are standard `xarray` datasets. All others follow the simple API:\n",
    "\n",
    "```\n",
    "print(x)                   # Show the data as SUMMA reads it\n",
    "x.get_option(NAME)         # Get an option\n",
    "x.set_option(NAME, VALUE)  # Change an option\n",
    "x.remove_option(NAME)      # Remove an option\n",
    "```\n",
    "\n",
    "More intuitively, you can use `key` - `value` type indexing like dictionaries, dataframes, and datasets:\n",
    "\n",
    "```\n",
    "print(x['key'])    # Get an option\n",
    "x['key'] = value   # Change an option\n",
    "```"
   ]
  },
  {
   "cell_type": "markdown",
   "metadata": {},
   "source": [
    "### Setting decisions\n",
    "\n",
    "So, now that we've got a handle on what's available and what you can do with it, let's actually try some of this out. First let's just print out our decisions file so we can see what's in the defaults.\n"
   ]
  },
  {
   "cell_type": "code",
   "execution_count": null,
   "metadata": {},
   "outputs": [],
   "source": [
    "print(s.decisions)"
   ]
  },
  {
   "cell_type": "markdown",
   "metadata": {},
   "source": [
    "<br> \n",
    "\n",
    "Great, we can see what's in there. But to be able to change anything we need to know the available options for each decision. Let's look at how to do that. For arbitrary reasons we will look at the `snowIncept` option, which describes the parameterization for snow interception in the canopy. First we will get it from the `decisions` object directly, and then query what it can be changed to, then finally change the value to something else.\n",
    "\n",
    "<br>"
   ]
  },
  {
   "cell_type": "code",
   "execution_count": null,
   "metadata": {},
   "outputs": [],
   "source": [
    "# Get just the `snowIncept` option\n",
    "print(s.decisions['snowIncept'])\n",
    "\n",
    "# Look at what we can set it to\n",
    "print(s.decisions['snowIncept'].available_options)\n",
    "\n",
    "# Change the value \n",
    "s.decisions['snowIncept'] = 'stickySnow'\n",
    "print(s.decisions['snowIncept'])"
   ]
  },
  {
   "cell_type": "markdown",
   "metadata": {},
   "source": [
    "<br>\n",
    "\n",
    "### Changing parameters\n",
    "\n",
    "Much like the decisions we can manipulate the `local_param_info` file. First, let's look at what's contained in it"
   ]
  },
  {
   "cell_type": "code",
   "execution_count": null,
   "metadata": {},
   "outputs": [],
   "source": [
    "print(s.local_param_info)"
   ]
  },
  {
   "cell_type": "markdown",
   "metadata": {},
   "source": [
    "<br>\n",
    "\n",
    "<br>\n",
    "\n",
    "Yikes, that's pretty long. Okay but we can change things. See:"
   ]
  },
  {
   "cell_type": "code",
   "execution_count": null,
   "metadata": {},
   "outputs": [],
   "source": [
    "# Print it\n",
    "print(s.local_param_info['albedoMax'])\n",
    "\n",
    "# Change the value\n",
    "s.local_param_info['albedoMax'] = 0.9\n",
    "print(s.local_param_info['albedoMax'])\n",
    "\n",
    "# Change the value again - the right two values are currently unused by SUMMA though so this is superfluous\n",
    "s.local_param_info['albedoMax'] = [0.9, 0.2, 1]\n",
    "print(s.local_param_info['albedoMax'])"
   ]
  },
  {
   "cell_type": "markdown",
   "metadata": {},
   "source": [
    "<br>\n",
    "\n",
    "### Modifying output\n",
    "And one more, we can also modify what get's written to output. \n",
    "The output control file represents the options available through columns of numeric values.\n",
    "These numbers represent how to write the output. \n",
    "From the SUMMA documentation they are arranged as:\n",
    "\n",
    "```\n",
    "! varName          | outFreq | inst | sum | mean | var | min | max | mode\n",
    "```\n",
    "\n",
    "As before, let's look at what's in the `output_control` by simply printing it out.\n",
    "\n",
    "<br>"
   ]
  },
  {
   "cell_type": "code",
   "execution_count": null,
   "metadata": {},
   "outputs": [],
   "source": [
    "print(s.output_control)"
   ]
  },
  {
   "cell_type": "markdown",
   "metadata": {},
   "source": [
    "<br>\n",
    "\n",
    "Then, we can modify values in a couple of ways.\n",
    "\n",
    "<br>"
   ]
  },
  {
   "cell_type": "code",
   "execution_count": null,
   "metadata": {},
   "outputs": [],
   "source": [
    "# Just change the frequency to daily output\n",
    "print(s.output_control['scalarNetRadiation'])\n",
    "print(s.output_control['scalarNetRadiation'].statistic)\n",
    "\n",
    "# Change the output statistic from instantaneous to sum\n",
    "s.output_control['scalarNetRadiation'] = [1, 1, 0, 0, 0, 0, 0, 0]\n",
    "s.output_control['scalarSnowAge'] = [1, 1, 0, 0, 0, 0, 0, 0]\n",
    "print(s.output_control['scalarNetRadiation'])\n",
    "print(s.output_control['scalarNetRadiation'].statistic)\n",
    "\n",
    "# We could also be more verbose:\n",
    "s.output_control['scalarNetRadiation'] = {\n",
    "    'period': 1, 'instant': 1, 'sum': 0, \n",
    "    'mean': 0, 'variance': 0, 'min': 0, 'max': 0\n",
    "}\n",
    "print(s.output_control['scalarNetRadiation'])\n",
    "print(s.output_control['scalarNetRadiation'].statistic)"
   ]
  },
  {
   "cell_type": "markdown",
   "metadata": {},
   "source": [
    "<br>\n",
    "\n",
    "## Running pysumma and manipulating output\n",
    "\n",
    "Now that you've had an overview of how you can interact with SUMMA configurations through pysumma let's run a simulation. \n",
    "Before doing so we will reset our `Simulation` object, which will discard all of the changes we've made and load in a clean setup. \n",
    "Alternatively you could simply instantiate a new `Simulation` object.\n",
    "After running the simulation, we will make sure that it completed successfully by checking the status.\n",
    "With a complete run, we can look at the output simply by using the simulation's `output` attribute.\n",
    "It is simply an xarray dataset, which can be manipulated in all of the usual ways."
   ]
  },
  {
   "cell_type": "code",
   "execution_count": null,
   "metadata": {},
   "outputs": [],
   "source": [
    "s.reset()\n",
    "# Or you could just create a new simulation object like before:\n",
    "#s = ps.Simulation(executable, file_manager)\n",
    "\n",
    "s.run('local', run_suffix='_default')\n",
    "assert s.status == 'Success'"
   ]
  },
  {
   "cell_type": "code",
   "execution_count": null,
   "metadata": {},
   "outputs": [],
   "source": [
    "obs = xr.open_dataset('./validation/cues_2011-2019.nc')"
   ]
  },
  {
   "cell_type": "code",
   "execution_count": null,
   "metadata": {},
   "outputs": [],
   "source": [
    "s.output['scalarSWE'].plot(label='SUMMA')\n",
    "obs['swe'].plot(label='Observation')\n",
    "plt.legend()"
   ]
  },
  {
   "cell_type": "code",
   "execution_count": null,
   "metadata": {},
   "outputs": [],
   "source": [
    "(1000 * s.output['scalarSnowDepth']).plot(label='SUMMA')\n",
    "obs['snow_depth'].plot(label='Observation')\n",
    "plt.legend()"
   ]
  },
  {
   "cell_type": "markdown",
   "metadata": {},
   "source": [
    "## Changing the snow layering\n",
    "\n",
    "In this example we will change the snow layering scheme so that only a maximum of 2 layers will ever exist. We do this by making it so that the amount of snow needed to split layers is very large. We will also make sure we are using the `CLM_2010` snow layering scheme.\n",
    "\n",
    "<div class=\"alert alert-block alert-warning\" style=\"background: lemonchiffon; padding: 8px\">\n",
    "<b>Note:</b> \n",
    "    Once you have started the run with `s_2layer.run(...)` the settings chosen will be written to disk. You can restore the default settings by checking out the original setup in git with `git reset --hard`. Alternatively, you may just want to back things up locally.\n",
    "</div>\n"
   ]
  },
  {
   "cell_type": "code",
   "execution_count": null,
   "metadata": {},
   "outputs": [],
   "source": [
    "s_2layer = ps.Simulation(executable, file_manager)\n",
    "s_2layer.decisions['snowLayers']  = 'CLM_2010'"
   ]
  },
  {
   "cell_type": "code",
   "execution_count": null,
   "metadata": {},
   "outputs": [],
   "source": [
    "s_2layer.local_param_info['zminLayer3'] = [100., 0.05, 0.05]\n",
    "s_2layer.local_param_info['zminLayer4'] = [100., 0.1, 0.1]\n",
    "s_2layer.local_param_info['zminLayer5'] = [100., 0.25, 0.25]\n",
    "s_2layer.local_param_info['zmaxLayer2_lower'] = [9000., 0.2, 0.2]\n",
    "s_2layer.local_param_info['zmaxLayer3_lower'] = [9000., 0.5, 0.5]\n",
    "s_2layer.local_param_info['zmaxLayer4_lower'] = [9000., 1., 1.]\n",
    "s_2layer.local_param_info['zmaxLayer2_upper'] = [9000., 0.15, 0.15]\n",
    "s_2layer.local_param_info['zmaxLayer3_upper'] = [9000., 0.3, 0.3]\n",
    "s_2layer.local_param_info['zmaxLayer4_upper'] = [9000., 0.75, 0.75]"
   ]
  },
  {
   "cell_type": "code",
   "execution_count": null,
   "metadata": {},
   "outputs": [],
   "source": [
    "s_2layer.run('local', run_suffix='_2layer')\n",
    "assert s_2layer.status == 'Success'"
   ]
  },
  {
   "cell_type": "code",
   "execution_count": null,
   "metadata": {},
   "outputs": [],
   "source": [
    "s_2layer.output['scalarSWE'].plot(label='SUMMA 2 Layer')\n",
    "s.output['scalarSWE'].plot(label='SUMMA default')\n",
    "obs['swe'].plot(label='Observation')\n",
    "plt.legend()"
   ]
  },
  {
   "cell_type": "code",
   "execution_count": null,
   "metadata": {},
   "outputs": [],
   "source": []
  }
 ],
 "metadata": {
  "kernelspec": {
   "display_name": "all",
   "language": "python",
   "name": "all"
  },
  "language_info": {
   "codemirror_mode": {
    "name": "ipython",
    "version": 3
   },
   "file_extension": ".py",
   "mimetype": "text/x-python",
   "name": "python",
   "nbconvert_exporter": "python",
   "pygments_lexer": "ipython3",
   "version": "3.7.3"
  }
 },
 "nbformat": 4,
 "nbformat_minor": 2
}

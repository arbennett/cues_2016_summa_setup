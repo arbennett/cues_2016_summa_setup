{
 "cells": [
  {
   "cell_type": "markdown",
   "metadata": {},
   "source": [
    "# Running the CUES SUMMA setup\n",
    "\n",
    "First, we have to install the setup, which simply fixes paths in the file manager."
   ]
  },
  {
   "cell_type": "code",
   "execution_count": 1,
   "metadata": {},
   "outputs": [],
   "source": [
    "! ./install_local_setup.sh"
   ]
  },
  {
   "cell_type": "code",
   "execution_count": 1,
   "metadata": {},
   "outputs": [
    {
     "name": "stdout",
     "output_type": "stream",
     "text": [
      "Populating the interactive namespace from numpy and matplotlib\n"
     ]
    }
   ],
   "source": [
    "%pylab inline\n",
    "import pysumma as ps\n",
    "import xarray as xr"
   ]
  },
  {
   "cell_type": "markdown",
   "metadata": {},
   "source": [
    "<br>\n",
    "\n",
    "## Instantiating a simulation object\n",
    "\n",
    "To set up a `Simulation` object you must supply 2 pieces of information. \n",
    "\n",
    "First, the SUMMA executable; this could be either the compiled executable on your local machine, or a docker image. \n",
    "For this case, I'll assume that `summa.exe` is on your path. \n",
    "See the commented out `executable` for example of how you could also define the docker image. \n",
    "The string for the docker image simply came from looking at the output of the `docker images` command.\n",
    "\n",
    "The second piece of information is the path to the file manager, which we just created through the install script.\n",
    "To create the `Simulation` object you can then just pass these to the constructor as shown below."
   ]
  },
  {
   "cell_type": "code",
   "execution_count": 2,
   "metadata": {},
   "outputs": [],
   "source": [
    "executable = '/opt/local/bin/summa.exe'\n",
    "#executable = 'docker.io/bartnijssen/summa:develop'\n",
    "file_manager = './file_manager.txt'\n",
    "\n",
    "s = ps.Simulation(executable, file_manager)"
   ]
  },
  {
   "cell_type": "markdown",
   "metadata": {},
   "source": [
    "<br>\n",
    "\n",
    "## Manipulating the configuration of the simulation object\n",
    "\n",
    "Most of your interactions with pysumma will be facilitated through this `Simulation` object, so let's take some time to look through what is in it. \n",
    "What's contained in the `Simulation` object right after instantiation is generally just the input required for a SUMMA run.\n",
    "For a more in depth discussion of what these are see the [SUMMA Input](https://summa.readthedocs.io/en/latest/input_output/SUMMA_input/) page of the documentation.\n",
    "There are several attributes of interest that can be examined. \n",
    "To see each of them you can simply `print` them. \n",
    "Here's a very high level overview of what's available:\n",
    "\n",
    "* `s.manager` - the file manager\n",
    "* `s.decisions` - the decisions file\n",
    "* `s.output_control` - defines what variables to write out\n",
    "* `s.force_file_list` - a listing of all of the forcing files to use\n",
    "* `s.local_attributes` - describes GRU/HRU attributes (lat, lon, elevation, etc)\n",
    "* `s.local_param_info` - listing of spatially constant local (HRU) parameter values\n",
    "* `s.basin_param_info` - listing of spatially constant basin (GRU) parameter values\n",
    "* `s.parameter_trial` - spatially distributed parameter values (will overwrite `local_param_info` values, can be either HRU or GRU)\n",
    "\n",
    "Most of these objects have a similar interface defined, with exceptions being `local_attributes` and `parameter_trial`. Those two are standard `xarray` datasets. All others follow the simple API:\n",
    "\n",
    "```\n",
    "print(x)                 # Show the data as SUMMA reads it\n",
    "x.get_option(NAME)       # Get an option\n",
    "x.set_option(NAME, VALUE) # Change an option\n",
    "x.remove_option(NAME)    # Remove an option\n",
    "```"
   ]
  },
  {
   "cell_type": "markdown",
   "metadata": {},
   "source": [
    "### Setting decisions\n",
    "\n",
    "So, now that we've got a handle on what's available and what you can do with it, let's actually try some of this out. First let's just print out our decisions file so we can see what's in the defaults.\n"
   ]
  },
  {
   "cell_type": "code",
   "execution_count": 3,
   "metadata": {},
   "outputs": [
    {
     "name": "stdout",
     "output_type": "stream",
     "text": [
      "simulStart    '2010-10-01 00:00'   ! simulation start time\n",
      "simulFinsh    '2019-03-30 23:00'   ! simulation end time\n",
      "soilCatTbl    ROSETTA              ! soil-category dataset\n",
      "vegeParTbl    MODIFIED_IGBP_MODIS_NOAH ! vegetation-category dataset\n",
      "soilStress    NoahType             ! choice of function for the soil moisture control on stomatal resistance\n",
      "stomResist    BallBerry            ! choice of function for stomatal resistance\n",
      "num_method    itertive             ! choice of numerical method\n",
      "fDerivMeth    analytic             ! choice of method to calculate flux derivatives\n",
      "LAI_method    monTable             ! choice of method to determine LAI and SAI\n",
      "f_Richards    mixdform             ! form of Richards equation\n",
      "groundwatr    qTopmodl             ! choice of groundwater parameterization\n",
      "hc_profile    pow_prof             ! choice of hydraulic conductivity profile\n",
      "bcUpprTdyn    nrg_flux             ! type of upper boundary condition for thermodynamics\n",
      "bcLowrTdyn    zeroFlux             ! type of lower boundary condition for thermodynamics\n",
      "bcUpprSoiH    liq_flux             ! type of upper boundary condition for soil hydrology\n",
      "bcLowrSoiH    zeroFlux             ! type of lower boundary condition for soil hydrology\n",
      "veg_traits    CM_QJRMS1988         ! choice of parameterization for vegetation roughness length and displacement height\n",
      "rootProfil    powerLaw             ! choice of parameterization for the rooting profile\n",
      "canopyEmis    difTrans             ! choice of parameterization for canopy emissivity\n",
      "snowIncept    lightSnow            ! choice of parameterization for snow interception\n",
      "windPrfile    logBelowCanopy       ! choice of canopy wind profile\n",
      "astability    louisinv             ! choice of stability function\n",
      "canopySrad    BeersLaw             ! choice of method for canopy shortwave radiation\n",
      "alb_method    varDecay             ! choice of albedo representation\n",
      "compaction    anderson             ! choice of compaction routine\n",
      "snowLayers    CLM_2010             ! choice of method to combine and sub-divide snow layers\n",
      "thCondSnow    jrdn1991             ! choice of thermal conductivity representation for snow\n",
      "thCondSoil    funcSoilWet          ! choice of thermal conductivity representation for soil\n",
      "spatial_gw    localColumn          ! choice of method for spatial representation of groundwater\n",
      "subRouting    qInstant             ! choice of method for sub-grid routing\n"
     ]
    }
   ],
   "source": [
    "print(s.decisions)"
   ]
  },
  {
   "cell_type": "markdown",
   "metadata": {},
   "source": [
    "<br> \n",
    "\n",
    "Great, we can see what's in there. But to be able to change anything we need to know the available options for each decision. Let's look at how to do that. For arbitrary reasons we will look at the `snowIncept` option, which describes the parameterization for snow interception in the canopy. First we will get it from the `decisions` object directly, and then query what it can be changed to, then finally change the value to something else.\n",
    "\n",
    "<br>"
   ]
  },
  {
   "cell_type": "code",
   "execution_count": 4,
   "metadata": {},
   "outputs": [
    {
     "name": "stdout",
     "output_type": "stream",
     "text": [
      "snowIncept    lightSnow            ! choice of parameterization for snow interception\n",
      "['stickySnow', 'lightSnow']\n",
      "snowIncept    stickySnow           ! choice of parameterization for snow interception\n"
     ]
    }
   ],
   "source": [
    "# Get just the `snowIncept` option\n",
    "print(s.decisions['snowIncept'])\n",
    "\n",
    "# Look at what we can set it to\n",
    "print(s.decisions['snowIncept'].available_options)\n",
    "\n",
    "# Change the value \n",
    "s.decisions['snowIncept'] = 'stickySnow'\n",
    "print(s.decisions['snowIncept'])"
   ]
  },
  {
   "cell_type": "markdown",
   "metadata": {},
   "source": [
    "<br>\n",
    "\n",
    "### Changing parameters\n",
    "\n",
    "Much like the decisions we can manipulate the `local_param_info` file. First, let's look at what's contained in it"
   ]
  },
  {
   "cell_type": "code",
   "execution_count": 5,
   "metadata": {},
   "outputs": [
    {
     "name": "stdout",
     "output_type": "stream",
     "text": [
      "upperBoundHead            |      -7.5d-1 |      -1.0d+2 |      -1.0d-2\n",
      "lowerBoundHead            |      -1.0d+1 |      -1.0d+2 |      -1.0d-2\n",
      "upperBoundTheta           |       0.2004 |       0.1020 |       0.3680\n",
      "lowerBoundTheta           |       0.1100 |       0.1020 |       0.3680\n",
      "upperBoundTemp            |     272.1600 |     270.1600 |     280.1600\n",
      "lowerBoundTemp            |     274.1600 |     270.1600 |     280.1600\n",
      "tempCritRain              |     273.1600 |     272.1600 |     274.1600\n",
      "tempRangeTimestep         |       2.0000 |       0.5000 |       5.0000\n",
      "frozenPrecipMultip        |       1.0000 |       0.5000 |       1.5000\n",
      "snowfrz_scale             |      50.0000 |      10.0000 |    1000.0000\n",
      "fixedThermalCond_snow     |       0.3500 |       0.1000 |       1.0000\n",
      "albedoMax                 |       0.9000 |       0.2000 |       1.0000\n",
      "albedoMinWinter           |       0.5500 |       0.6000 |       1.0000\n",
      "albedoMinSpring           |       0.5500 |       0.3000 |       1.0000\n",
      "albedoMaxVisible          |       0.9500 |       0.7000 |       0.9500\n",
      "albedoMinVisible          |       0.7500 |       0.5000 |       0.7500\n",
      "albedoMaxNearIR           |       0.6500 |       0.5000 |       0.7500\n",
      "albedoMinNearIR           |       0.3000 |       0.1500 |       0.4500\n",
      "albedoDecayRate           |       1.0d+6 |       1.0d+5 |       5.0d+6\n",
      "albedoSootLoad            |       0.3000 |       0.1000 |       0.5000\n",
      "albedoRefresh             |       1.0000 |       1.0000 |      10.0000\n",
      "radExt_snow               |      20.0000 |      20.0000 |      20.0000\n",
      "directScale               |       0.0900 |       0.0000 |       0.5000\n",
      "Frad_direct               |       0.7000 |       0.0000 |       1.0000\n",
      "Frad_vis                  |       0.5000 |       0.0000 |       1.0000\n",
      "newSnowDenMin             |     100.0000 |      50.0000 |     100.0000\n",
      "newSnowDenMult            |     100.0000 |      25.0000 |      75.0000\n",
      "newSnowDenScal            |       5.0000 |       1.0000 |       5.0000\n",
      "constSnowDen              |     100.0000 |      50.0000 |     250.0000\n",
      "newSnowDenAdd             |     109.0000 |      80.0000 |     120.0000\n",
      "newSnowDenMultTemp        |       6.0000 |       1.0000 |      12.0000\n",
      "newSnowDenMultWind        |      26.0000 |      16.0000 |      36.0000\n",
      "newSnowDenMultAnd         |       1.0000 |       1.0000 |       3.0000\n",
      "newSnowDenBase            |       0.0000 |       0.0000 |       0.0000\n",
      "densScalGrowth            |       0.0460 |       0.0230 |       0.0920\n",
      "tempScalGrowth            |       0.0400 |       0.0200 |       0.0600\n",
      "grainGrowthRate           |       2.7d-6 |       1.0d-6 |       5.0d-6\n",
      "densScalOvrbdn            |       0.0230 |       0.0115 |       0.0460\n",
      "tempScalOvrbdn            |       0.0800 |       0.6000 |       1.0000\n",
      "baseViscosity             |       9.0d+5 |       5.0d+5 |       1.5d+6\n",
      "Fcapil                    |       0.0600 |       0.0100 |       0.1000\n",
      "k_snow                    |       0.0150 |       0.0050 |       0.0500\n",
      "mw_exp                    |       3.0000 |       1.0000 |       5.0000\n",
      "z0Snow                    |       0.0010 |       0.0010 |      10.0000\n",
      "z0Soil                    |       0.0100 |       0.0010 |      10.0000\n",
      "z0Canopy                  |       0.1000 |       0.0010 |      10.0000\n",
      "zpdFraction               |       0.6500 |       0.5000 |       0.8500\n",
      "critRichNumber            |       9.0000 |       9.0000 |       9.0000\n",
      "Louis79_bparam            |       9.4000 |       9.2000 |       9.6000\n",
      "Louis79_cStar             |       5.3000 |       5.1000 |       5.5000\n",
      "Mahrt87_eScale            |       1.0000 |       0.5000 |       2.0000\n",
      "leafExchangeCoeff         |       0.0250 |       0.0250 |       0.0250\n",
      "windReductionParam        |       0.9500 |       0.9500 |       0.9500\n",
      "Kc25                      |     296.0770 |     296.0770 |     296.0770\n",
      "Ko25                      |       0.2961 |       0.2961 |       0.2961\n",
      "Kc_qFac                   |       2.1000 |       2.1000 |       2.1000\n",
      "Ko_qFac                   |       1.2000 |       1.2000 |       1.2000\n",
      "kc_Ha                     |       7.9d+4 |       7.9d+4 |       7.9d+4\n",
      "ko_Ha                     |       3.6d+4 |       3.6d+4 |       3.6d+4\n",
      "vcmax25_canopyTop         |      40.0000 |      20.0000 |     100.0000\n",
      "vcmax_qFac                |       2.4000 |       2.4000 |       2.4000\n",
      "vcmax_Ha                  |       6.5d+4 |       6.5d+4 |       6.5d+4\n",
      "vcmax_Hd                  |       2.2d+5 |       1.5d+5 |       1.5d+5\n",
      "vcmax_Sv                  |     710.0000 |     485.0000 |     485.0000\n",
      "vcmax_Kn                  |       0.6000 |       0.0000 |       1.2000\n",
      "jmax25_scale              |       2.0000 |       2.0000 |       2.0000\n",
      "jmax_Ha                   |       4.4d+4 |       4.4d+4 |       4.4d+4\n",
      "jmax_Hd                   |       1.5d+5 |       1.5d+5 |       1.5d+5\n",
      "jmax_Sv                   |     495.0000 |     495.0000 |     495.0000\n",
      "fractionJ                 |       0.1500 |       0.1500 |       0.1500\n",
      "quantamYield              |       0.0500 |       0.0500 |       0.0500\n",
      "vpScaleFactor             |    1500.0000 |    1500.0000 |    1500.0000\n",
      "cond2photo_slope          |       9.0000 |       1.0000 |      10.0000\n",
      "minStomatalConductance    |    2000.0000 |    2000.0000 |    2000.0000\n",
      "winterSAI                 |       1.0000 |       0.0100 |       3.0000\n",
      "summerLAI                 |       3.0000 |       0.0100 |      10.0000\n",
      "rootScaleFactor1          |       2.0000 |       1.0000 |      10.0000\n",
      "rootScaleFactor2          |       5.0000 |       1.0000 |      10.0000\n",
      "rootingDepth              |       0.5000 |       0.0100 |      10.0000\n",
      "rootDistExp               |       1.0000 |       0.0100 |       1.0000\n",
      "plantWiltPsi              |      -1.5d+2 |      -5.0d+2 |       0.0000\n",
      "soilStressParam           |       5.8000 |       4.3600 |       6.3700\n",
      "critSoilWilting           |       0.0750 |       0.0000 |       1.0000\n",
      "critSoilTranspire         |       0.1750 |       0.0000 |       1.0000\n",
      "critAquiferTranspire      |       0.2000 |       0.1000 |      10.0000\n",
      "minStomatalResistance     |      50.0000 |      10.0000 |     200.0000\n",
      "leafDimension             |       0.0400 |       0.0100 |       0.1000\n",
      "heightCanopyTop           |      20.0000 |       0.0500 |     100.0000\n",
      "heightCanopyBottom        |       2.0000 |       0.0000 |       5.0000\n",
      "specificHeatVeg           |     874.0000 |     500.0000 |    1500.0000\n",
      "maxMassVegetation         |      25.0000 |       1.0000 |      50.0000\n",
      "throughfallScaleSnow      |       0.5000 |       0.1000 |       0.9000\n",
      "throughfallScaleRain      |       0.5000 |       0.1000 |       0.9000\n",
      "refInterceptCapSnow       |       6.6000 |       1.0000 |      10.0000\n",
      "refInterceptCapRain       |       1.0000 |       0.0100 |       1.0000\n",
      "snowUnloadingCoeff        |       0.0000 |       0.0000 |       1.5d-6\n",
      "canopyDrainageCoeff       |       0.0050 |       0.0010 |       0.0100\n",
      "ratioDrip2Unloading       |       0.4000 |       0.0000 |       1.0000\n",
      "canopyWettingFactor       |       0.7000 |       0.0000 |       1.0000\n",
      "canopyWettingExp          |       1.0000 |       0.0000 |       1.0000\n",
      "soil_dens_intr            |    2700.0000 |     500.0000 |    4000.0000\n",
      "thCond_soil               |       5.5000 |       2.9000 |       8.4000\n",
      "frac_sand                 |       0.1600 |       0.0000 |       1.0000\n",
      "frac_silt                 |       0.2800 |       0.0000 |       1.0000\n",
      "frac_clay                 |       0.5600 |       0.0000 |       1.0000\n",
      "fieldCapacity             |       0.2000 |       0.0000 |       1.0000\n",
      "wettingFrontSuction       |       0.3000 |       0.1000 |       1.5000\n",
      "theta_mp                  |       0.4010 |       0.3000 |       0.6000\n",
      "theta_sat                 |       0.5500 |       0.3000 |       0.6000\n",
      "theta_res                 |       0.1390 |       0.0010 |       0.1000\n",
      "vGn_alpha                 |      -8.4d-1 |      -1.0d+0 |      -1.0d-2\n",
      "vGn_n                     |       1.3000 |       1.0000 |       3.0000\n",
      "mpExp                     |       5.0000 |       1.0000 |      10.0000\n",
      "k_soil                    |       7.5d-6 |       1.0d-7 |       1.0d-5\n",
      "k_macropore               |       0.0010 |       1.0d-7 |       1.0d-5\n",
      "kAnisotropic              |       1.0000 |       0.0001 |      10.0000\n",
      "zScale_TOPMODEL           |       2.5000 |       0.1000 |     100.0000\n",
      "compactedDepth            |       1.0000 |       0.0000 |       1.0000\n",
      "aquiferScaleFactor        |       0.3500 |       0.1000 |     100.0000\n",
      "aquiferBaseflowExp        |       2.0000 |       1.0000 |      10.0000\n",
      "aquiferBaseflowRate       |       2.0000 |       1.0000 |      10.0000\n",
      "qSurfScale                |      50.0000 |       1.0000 |     100.0000\n",
      "specificYield             |       0.2000 |       0.1000 |       0.3000\n",
      "specificStorage           |       1.0d-9 |       1.0d-5 |       1.0d-7\n",
      "f_impede                  |       2.0000 |       1.0000 |      10.0000\n",
      "soilIceScale              |       0.1300 |       0.0001 |       1.0000\n",
      "soilIceCV                 |       0.4500 |       0.1000 |       5.0000\n",
      "minwind                   |       0.1000 |       0.0010 |       1.0000\n",
      "minstep                   |       1.0000 |       1.0000 |    1800.0000\n",
      "maxstep                   |    3600.0000 |      60.0000 |    1800.0000\n",
      "wimplicit                 |       0.0000 |       0.0000 |       1.0000\n",
      "maxiter                   |     100.0000 |       1.0000 |     100.0000\n",
      "relConvTol_liquid         |       0.0010 |       1.0d-5 |       0.1000\n",
      "absConvTol_liquid         |       1.0d-5 |       1.0d-8 |       0.0010\n",
      "relConvTol_matric         |       1.0d-6 |       1.0d-5 |       0.1000\n",
      "absConvTol_matric         |       1.0d-6 |       1.0d-8 |       0.0010\n",
      "relConvTol_energy         |       0.0100 |       1.0d-5 |       0.1000\n",
      "absConvTol_energy         |       1.0000 |       0.0100 |      10.0000\n",
      "relConvTol_aquifr         |       1.0000 |       0.0100 |      10.0000\n",
      "absConvTol_aquifr         |       1.0d-5 |       1.0d-5 |       0.1000\n",
      "zmin                      |       0.0100 |       0.0050 |       0.1000\n",
      "zmax                      |       0.0500 |       0.0100 |       0.5000\n",
      "zminLayer1                |       0.0075 |       0.0075 |       0.0075\n",
      "zminLayer2                |       0.0100 |       0.0100 |       0.0100\n",
      "zminLayer3                |       0.0500 |       0.0500 |       0.0500\n",
      "zminLayer4                |       0.1000 |       0.1000 |       0.1000\n",
      "zminLayer5                |       0.2500 |       0.2500 |       0.2500\n",
      "zmaxLayer1_lower          |       0.0500 |       0.0500 |       0.0500\n",
      "zmaxLayer2_lower          |       0.2000 |       0.2000 |       0.2000\n",
      "zmaxLayer3_lower          |       0.5000 |       0.5000 |       0.5000\n",
      "zmaxLayer4_lower          |       1.0000 |       1.0000 |       1.0000\n",
      "zmaxLayer1_upper          |       0.0300 |       0.0300 |       0.0300\n",
      "zmaxLayer2_upper          |       0.1500 |       0.1500 |       0.1500\n",
      "zmaxLayer3_upper          |       0.3000 |       0.3000 |       0.3000\n",
      "zmaxLayer4_upper          |       0.7500 |       0.7500 |       0.7500\n"
     ]
    }
   ],
   "source": [
    "print(s.local_param_info)"
   ]
  },
  {
   "cell_type": "markdown",
   "metadata": {},
   "source": [
    "<br>\n",
    "\n",
    "<br>\n",
    "\n",
    "Yikes, that's pretty long. Okay but we can change things. See:"
   ]
  },
  {
   "cell_type": "code",
   "execution_count": 6,
   "metadata": {},
   "outputs": [
    {
     "name": "stdout",
     "output_type": "stream",
     "text": [
      "albedoMax                 |       0.9000 |       0.2000 |       1.0000\n",
      "albedoMax                 |       0.9000 |       0.9000 |       0.9000\n",
      "albedoMax                 |       0.9000 |       0.2000 |       1.0000\n"
     ]
    }
   ],
   "source": [
    "# Print it\n",
    "print(s.local_param_info['albedoMax'])\n",
    "\n",
    "# Change the value\n",
    "s.local_param_info['albedoMax'] = 0.9\n",
    "print(s.local_param_info['albedoMax'])\n",
    "\n",
    "# Change the value again - the right two values are currently unused by SUMMA though so this is superfluous\n",
    "s.local_param_info['albedoMax'] = [0.9, 0.2, 1]\n",
    "print(s.local_param_info['albedoMax'])"
   ]
  },
  {
   "cell_type": "markdown",
   "metadata": {},
   "source": [
    "<br>\n",
    "\n",
    "### Modifying output\n",
    "And one more, we can also modify what get's written to output. \n",
    "The output control file represents the options available through columns of numeric values.\n",
    "These numbers represent how to write the output. \n",
    "From the SUMMA documentation they are arranged as:\n",
    "\n",
    "```\n",
    "! varName          | outFreq | inst | sum | mean | var | min | max | mode\n",
    "```\n",
    "\n",
    "As before, let's look at what's in the `output_control` by simply printing it out.\n",
    "\n",
    "<br>"
   ]
  },
  {
   "cell_type": "code",
   "execution_count": 7,
   "metadata": {},
   "outputs": [
    {
     "name": "stdout",
     "output_type": "stream",
     "text": [
      "pptrate                              | 1 | 1 | 0 | 0 | 0 | 0 | 0 | 0\n",
      "airtemp                              | 1 | 1 | 0 | 0 | 0 | 0 | 0 | 0\n",
      "scalarRainPlusMelt                   | 1 | 1 | 0 | 0 | 0 | 0 | 0 | 0\n",
      "scalarSWE                            | 1 | 1 | 0 | 0 | 0 | 0 | 0 | 0\n",
      "scalarThroughfallSnow                | 1 | 1 | 0 | 0 | 0 | 0 | 0 | 0\n",
      "scalarThroughfallRain                | 1 | 1 | 0 | 0 | 0 | 0 | 0 | 0\n",
      "scalarSnowSublimation                | 1 | 1 | 0 | 0 | 0 | 0 | 0 | 0\n",
      "scalarInfiltration                   | 1 | 1 | 0 | 0 | 0 | 0 | 0 | 0\n",
      "scalarExfiltration                   | 1 | 1 | 0 | 0 | 0 | 0 | 0 | 0\n",
      "scalarSurfaceRunoff                  | 1 | 1 | 0 | 0 | 0 | 0 | 0 | 0\n",
      "scalarSurfaceTemp                    | 1 | 1 | 0 | 0 | 0 | 0 | 0 | 0\n",
      "scalarSenHeatTotal                   | 1 | 1 | 0 | 0 | 0 | 0 | 0 | 0\n",
      "scalarLatHeatTotal                   | 1 | 1 | 0 | 0 | 0 | 0 | 0 | 0\n",
      "averageInstantRunoff                 | 1 | 1 | 0 | 0 | 0 | 0 | 0 | 0\n",
      "averageRoutedRunoff                  | 1 | 1 | 0 | 0 | 0 | 0 | 0 | 0\n",
      "scalarCanopySublimation              | 1 | 1 | 0 | 0 | 0 | 0 | 0 | 0\n",
      "scalarGroundEvaporation              | 1 | 1 | 0 | 0 | 0 | 0 | 0 | 0\n",
      "scalarCanopyEvaporation              | 1 | 1 | 0 | 0 | 0 | 0 | 0 | 0\n",
      "scalarTotalRunoff                    | 1 | 1 | 0 | 0 | 0 | 0 | 0 | 0\n",
      "scalarSoilBaseflow                   | 1 | 1 | 0 | 0 | 0 | 0 | 0 | 0\n",
      "scalarAquiferBaseflow                | 1 | 1 | 0 | 0 | 0 | 0 | 0 | 0\n",
      "scalarTotalSoilLiq                   | 1 | 1 | 0 | 0 | 0 | 0 | 0 | 0\n",
      "scalarTotalSoilIce                   | 1 | 1 | 0 | 0 | 0 | 0 | 0 | 0\n",
      "scalarCanopyIce                      | 1 | 1 | 0 | 0 | 0 | 0 | 0 | 0\n",
      "scalarCanopyLiq                      | 1 | 1 | 0 | 0 | 0 | 0 | 0 | 0\n",
      "scalarCanopyTemp                     | 1 | 1 | 0 | 0 | 0 | 0 | 0 | 0\n",
      "scalarCanairTemp                     | 1 | 1 | 0 | 0 | 0 | 0 | 0 | 0\n",
      "scalarCanopyTranspiration            | 1 | 1 | 0 | 0 | 0 | 0 | 0 | 0\n",
      "scalarLatHeatGround                  | 1 | 1 | 0 | 0 | 0 | 0 | 0 | 0\n",
      "scalarLatHeatCanopyEvap              | 1 | 1 | 0 | 0 | 0 | 0 | 0 | 0\n",
      "scalarLatHeatCanopyTrans             | 1 | 1 | 0 | 0 | 0 | 0 | 0 | 0\n",
      "scalarLWNetUbound                    | 1 | 1 | 0 | 0 | 0 | 0 | 0 | 0\n",
      "SWRadAtm                             | 1 | 1 | 0 | 0 | 0 | 0 | 0 | 0\n",
      "LWRadAtm                             | 1 | 1 | 0 | 0 | 0 | 0 | 0 | 0\n",
      "scalarCanairNetNrgFlux               | 1 | 1 | 0 | 0 | 0 | 0 | 0 | 0\n",
      "scalarCanopyNetNrgFlux               | 1 | 1 | 0 | 0 | 0 | 0 | 0 | 0\n",
      "scalarGroundNetNrgFlux               | 1 | 1 | 0 | 0 | 0 | 0 | 0 | 0\n",
      "scalarNetRadiation                   | 24 | 0 | 1 | 0 | 0 | 0 | 0 | 0\n"
     ]
    }
   ],
   "source": [
    "print(s.output_control)"
   ]
  },
  {
   "cell_type": "markdown",
   "metadata": {},
   "source": [
    "<br>\n",
    "\n",
    "Then, we can modify values in a couple of ways.\n",
    "\n",
    "<br>"
   ]
  },
  {
   "cell_type": "code",
   "execution_count": 15,
   "metadata": {},
   "outputs": [
    {
     "name": "stdout",
     "output_type": "stream",
     "text": [
      "scalarNetRadiation                   | 1 | 1 | 0 | 0 | 0 | 0 | 0 | 0\n",
      "instant\n",
      "scalarNetRadiation                   | 1 | 0 | 1 | 0 | 0 | 0 | 0 | 0\n",
      "sum\n",
      "scalarNetRadiation                   | 1 | 1 | 0 | 0 | 0 | 0 | 0 | 0\n",
      "instant\n"
     ]
    }
   ],
   "source": [
    "# Just change the frequency to daily output\n",
    "print(s.output_control['scalarNetRadiation'])\n",
    "print(s.output_control['scalarNetRadiation'].statistic)\n",
    "\n",
    "# Change the output statistic from instantaneous to sum\n",
    "s.output_control['scalarNetRadiation'] = [1, 0, 1, 0, 0, 0, 0, 0]\n",
    "print(s.output_control['scalarNetRadiation'])\n",
    "print(s.output_control['scalarNetRadiation'].statistic)\n",
    "\n",
    "# We could also be more verbose:\n",
    "s.output_control['scalarNetRadiation'] = {\n",
    "    'period': 1, 'instant': 1, 'sum': 0, \n",
    "    'mean': 0, 'variance': 0, 'min': 0, 'max': 0\n",
    "}\n",
    "print(s.output_control['scalarNetRadiation'])\n",
    "print(s.output_control['scalarNetRadiation'].statistic)"
   ]
  },
  {
   "cell_type": "markdown",
   "metadata": {},
   "source": [
    "<br>\n",
    "\n",
    "## Running pysumma and manipulating output\n",
    "\n",
    "Now that you've had an overview of how you can interact with SUMMA configurations through pysumma let's run a simulation. \n",
    "Before doing so we will reset our `Simulation` object, which will discard all of the changes we've made and load in a clean setup. \n",
    "Alternatively you could simply instantiate a new `Simulation` object."
   ]
  },
  {
   "cell_type": "code",
   "execution_count": 10,
   "metadata": {},
   "outputs": [
    {
     "name": "stdout",
     "output_type": "stream",
     "text": [
      "Error\n"
     ]
    }
   ],
   "source": [
    "#s.start('docker', run_suffix='_test')\n",
    "s.reset()\n",
    "s.start('local', run_suffix='_default')\n",
    "s.monitor()\n",
    "print(s._status)"
   ]
  },
  {
   "cell_type": "code",
   "execution_count": 10,
   "metadata": {},
   "outputs": [],
   "source": [
    "ds_default = s.output[0]"
   ]
  },
  {
   "cell_type": "code",
   "execution_count": 15,
   "metadata": {},
   "outputs": [
    {
     "data": {
      "text/plain": [
       "<xarray.Dataset>\n",
       "Dimensions:                   (hru: 1, time: 3102)\n",
       "Coordinates:\n",
       "  * time                      (time) datetime64[ns] 2010-10-02 ... 2019-03-30\n",
       "  * hru                       (hru) int32 1\n",
       "Data variables:\n",
       "    scalarNetRadiation_total  (time, hru) float64 9.282e+06 ... 1.07e+07\n",
       "Attributes:\n",
       "    summaVersion:     v2.0.0\n",
       "    buildTime:        Thu May  2 13:35:30 PDT 2019\n",
       "    gitBranch:        cewa564_pangeo-0-gb4f5ec0\n",
       "    gitHash:          b4f5ec0fa816116bd65736632b5e4e5e44f030bf\n",
       "    soilStress:       NoahType\n",
       "    stomResist:       BallBerry\n",
       "    num_method:       itertive\n",
       "    fDerivMeth:       analytic\n",
       "    LAI_method:       monTable\n",
       "    f_Richards:       mixdform\n",
       "    groundwatr:       qTopmodl\n",
       "    hc_profile:       pow_prof\n",
       "    bcUpprTdyn:       nrg_flux\n",
       "    bcLowrTdyn:       zeroFlux\n",
       "    bcUpprSoiH:       liq_flux\n",
       "    bcLowrSoiH:       zeroFlux\n",
       "    veg_traits:       CM_QJRMS1988\n",
       "    rootProfil:       powerLaw\n",
       "    canopyEmis:       difTrans\n",
       "    snowIncept:       lightSnow\n",
       "    windPrfile:       logBelowCanopy\n",
       "    astability:       louisinv\n",
       "    canopySrad:       BeersLaw\n",
       "    alb_method:       varDecay\n",
       "    snowLayers:       CLM_2010\n",
       "    compaction:       anderson\n",
       "    thCondSnow:       jrdn1991\n",
       "    thCondSoil:       funcSoilWet\n",
       "    spatial_gw:       localColumn\n",
       "    subRouting:       qInstant\n",
       "    notPopulatedYet:  notPopulatedYet"
      ]
     },
     "execution_count": 15,
     "metadata": {},
     "output_type": "execute_result"
    }
   ],
   "source": [
    "ds_default"
   ]
  },
  {
   "cell_type": "code",
   "execution_count": null,
   "metadata": {},
   "outputs": [],
   "source": [
    "s = ps.Simulation(executable, file_manager)\n",
    "s.decisions.snowLayers.set_value('CLM_2010')\n",
    "s.local_param_info.zminLayer3.set_value([100., 0.05, 0.05])\n",
    "s.local_param_info.zminLayer4.set_value([100., 0.1, 0.1])\n",
    "s.local_param_info.zminLayer5.set_value([100., 0.25, 0.25])\n",
    "s.local_param_info.zmaxLayer2_lower.set_value([1000., 0.2, 0.2])\n",
    "s.local_param_info.zmaxLayer3_lower.set_value([1000., 0.5, 0.5])\n",
    "s.local_param_info.zmaxLayer4_lower.set_value([1000., 1., 1.])\n",
    "s.local_param_info.zmaxLayer2_upper.set_value([1000., 0.15, 0.15])\n",
    "s.local_param_info.zmaxLayer3_upper.set_value([1000., 0.3, 0.3])\n",
    "s.local_param_info.zmaxLayer4_upper.set_value([1000., 0.75, 0.75])"
   ]
  },
  {
   "cell_type": "markdown",
   "metadata": {},
   "source": [
    "## Plotting and analysis"
   ]
  },
  {
   "cell_type": "code",
   "execution_count": null,
   "metadata": {},
   "outputs": [],
   "source": [
    "print(s.stdout[-800:])"
   ]
  },
  {
   "cell_type": "code",
   "execution_count": 11,
   "metadata": {},
   "outputs": [
    {
     "ename": "NameError",
     "evalue": "name 's' is not defined",
     "output_type": "error",
     "traceback": [
      "\u001b[0;31m---------------------------------------------------------------------------\u001b[0m",
      "\u001b[0;31mNameError\u001b[0m                                 Traceback (most recent call last)",
      "\u001b[0;32m<ipython-input-11-580bc56ac1c3>\u001b[0m in \u001b[0;36m<module>\u001b[0;34m\u001b[0m\n\u001b[0;32m----> 1\u001b[0;31m \u001b[0mprint\u001b[0m\u001b[0;34m(\u001b[0m\u001b[0ms\u001b[0m\u001b[0;34m.\u001b[0m\u001b[0mstderr\u001b[0m\u001b[0;34m)\u001b[0m\u001b[0;34m\u001b[0m\u001b[0;34m\u001b[0m\u001b[0m\n\u001b[0m",
      "\u001b[0;31mNameError\u001b[0m: name 's' is not defined"
     ]
    }
   ],
   "source": [
    "print(s.stderr)"
   ]
  },
  {
   "cell_type": "code",
   "execution_count": null,
   "metadata": {},
   "outputs": [],
   "source": [
    "ds = s.output"
   ]
  },
  {
   "cell_type": "code",
   "execution_count": null,
   "metadata": {},
   "outputs": [],
   "source": []
  },
  {
   "cell_type": "code",
   "execution_count": null,
   "metadata": {},
   "outputs": [],
   "source": []
  },
  {
   "cell_type": "code",
   "execution_count": null,
   "metadata": {},
   "outputs": [],
   "source": []
  }
 ],
 "metadata": {
  "kernelspec": {
   "display_name": "all",
   "language": "python",
   "name": "all"
  },
  "language_info": {
   "codemirror_mode": {
    "name": "ipython",
    "version": 3
   },
   "file_extension": ".py",
   "mimetype": "text/x-python",
   "name": "python",
   "nbconvert_exporter": "python",
   "pygments_lexer": "ipython3",
   "version": "3.6.8"
  }
 },
 "nbformat": 4,
 "nbformat_minor": 2
}
